{
 "cells": [
  {
   "cell_type": "code",
   "execution_count": 98,
   "metadata": {},
   "outputs": [],
   "source": [
    "# --------------Imports-----------------\n",
    "# NumPy is a Python library used for working with arrays\n",
    "import numpy as np\n",
    "\n",
    "# Kunna hantera bilder\n",
    "from IPython.display import Image \n",
    "\n",
    "# För att kunna plotta datan\n",
    "import matplotlib.pyplot as plt\n",
    "\n",
    "import random\n",
    "\n",
    "from sklearn.model_selection import train_test_split\n",
    "\n",
    "from sympy import expand, symbols\n",
    "\n",
    "from sklearn.dummy import check_random_state\n",
    "\n",
    "from gplearn.genetic import SymbolicRegressor\n",
    "\n",
    "from gplearn.functions import make_function\n",
    "\n",
    "# Gör det möjligt att plotta trädet\n",
    "import graphviz"
   ]
  },
  {
   "cell_type": "code",
   "execution_count": 99,
   "metadata": {},
   "outputs": [
    {
     "data": {
      "text/html": [
       "<img src=\"Spalding.png\"/>"
      ],
      "text/plain": [
       "<IPython.core.display.Image object>"
      ]
     },
     "execution_count": 99,
     "metadata": {},
     "output_type": "execute_result"
    }
   ],
   "source": [
    "\n",
    "Image(url=\"Spalding.png\") \n",
    "\n"
   ]
  },
  {
   "cell_type": "code",
   "execution_count": 142,
   "metadata": {},
   "outputs": [
    {
     "name": "stderr",
     "output_type": "stream",
     "text": [
      "/var/folders/01/yj6c57gj6zg7f6gkhtv245600000gn/T/ipykernel_5648/3747733839.py:20: UserWarning: No artists with labels found to put in legend.  Note that artists whose label start with an underscore are ignored when legend() is called with no argument.\n",
      "  plt.legend()\n"
     ]
    },
    {
     "data": {
      "image/png": "[encoded data removed]",
      "text/plain": [
       "<Figure size 640x480 with 1 Axes>"
      ]
     },
     "metadata": {},
     "output_type": "display_data"
    }
   ],
   "source": [
    "\n",
    "# constant values taken \n",
    "U_1_plus = np.linspace(0, 20, 10_000) \n",
    "\n",
    "C = 5\n",
    "kappa = 0.41\n",
    "\n",
    "# Y_plus_tau(U_1_plus)\n",
    "Y_plus_tau = U_1_plus + np.exp(-kappa*C) * (\n",
    "    np.exp(kappa*U_1_plus) -1 \n",
    "    - kappa* U_1_plus \n",
    "    - 1/2*(kappa*U_1_plus)**2\n",
    "    - 1/6 * (kappa * U_1_plus )**3)\n",
    "\n",
    "plt.plot( Y_plus_tau, U_1_plus)\n",
    "plt.xscale('log') \n",
    "plt.xlabel(r'$Y^+_{\\tau}$')\n",
    "plt.ylabel(r'$U^+_1$')\n",
    "plt.title(r'Plot of $Y^+_{\\tau}$ as a function of $U^+_1$ with Logarithmic Y-axis')\n",
    "plt.grid(True)\n",
    "plt.legend()\n",
    "plt.show()\n"
   ]
  },
  {
   "cell_type": "code",
   "execution_count": 143,
   "metadata": {},
   "outputs": [
    {
     "name": "stdout",
     "output_type": "stream",
     "text": [
      "[[0.00000000e+00]\n",
      " [2.00020002e-03]\n",
      " [4.00040004e-03]\n",
      " ...\n",
      " [4.70611803e+02]\n",
      " [4.70993198e+02]\n",
      " [4.71374907e+02]]\n"
     ]
    }
   ],
   "source": [
    "# --------------Make a traning and testing set in the plane-----------------\n",
    "\n",
    "# Reshape data for the regression model\n",
    "U_1_plus = U_1_plus.reshape(-1, 1)\n",
    "Y_plus_tau = Y_plus_tau.reshape(-1, 1)\n",
    "\n",
    "print(Y_plus_tau)\n",
    "\n",
    "X_train, X_test, y_train, y_test = train_test_split(U_1_plus, Y_plus_tau, test_size=0.1,random_state=1)\n",
    "\n"
   ]
  },
  {
   "cell_type": "code",
   "execution_count": 158,
   "metadata": {},
   "outputs": [
    {
     "name": "stdout",
     "output_type": "stream",
     "text": [
      "hello\n",
      "    |   Population Average    |             Best Individual              |\n",
      "---- ------------------------- ------------------------------------------ ----------\n",
      " Gen   Length          Fitness   Length          Fitness      OOB Fitness  Time Left\n"
     ]
    },
    {
     "name": "stderr",
     "output_type": "stream",
     "text": [
      "/Users/oskardahlstedt/ml/my_env/lib/python3.12/site-packages/sklearn/utils/validation.py:1339: DataConversionWarning: A column-vector y was passed when a 1d array was expected. Please change the shape of y to (n_samples, ), for example using ravel().\n",
      "  y = column_or_1d(y, warn=True)\n"
     ]
    },
    {
     "name": "stdout",
     "output_type": "stream",
     "text": [
      "   0    18.45       6.1175e+21       23          17.9857          19.0944      9.29m\n",
      "   1     9.23      1.02351e+08       29          17.0992          16.7039      7.54m\n",
      "   2    10.13      2.55687e+07       22          15.2977          16.6952      7.63m\n",
      "   3    16.61      2.64905e+07       27          12.5338          13.3185      9.21m\n",
      "   4    17.53      1.59632e+07       21          11.9199          11.9676     10.23m\n",
      "   5    13.51      2.43906e+07       14          11.6665          12.8747      8.24m\n",
      "   6    11.35      3.47826e+07       14          11.8509          11.2155      7.58m\n",
      "   7    10.12      4.68526e+07       17          10.6551          10.4018      9.61m\n",
      "   8    10.89      4.38491e+07       17          10.6007          10.8916      8.26m\n",
      "   9    11.56       3.3392e+07       17          10.5857          11.0263      8.19m\n",
      "  10    12.50      2.72477e+07       16           10.475          10.2558      8.02m\n",
      "  11    12.83      2.17662e+07       18          9.58478          9.81982      8.00m\n",
      "  12    13.19      2.46771e+07       18          9.56279          10.0176      8.40m\n",
      "  13    13.41      1.95936e+07       18          8.91021          9.93406      7.81m\n",
      "  14    13.70      2.04874e+07       18          9.03559          8.80567      7.75m\n",
      "  15    13.75      1.58059e+12       18          8.97649          9.33759      9.22m\n",
      "  16    14.00      2.89765e+12       20          8.94283          9.37951      8.43m\n",
      "  17    14.71      1.74704e+07       18          8.90926          9.94267      8.11m\n",
      "  18    16.08      1.61719e+07       20          8.88165           9.9301      8.28m\n",
      "  19    16.82      2.15123e+07       18          8.88425          10.1677      7.20m\n",
      "  20    17.44       1.1609e+07       18            8.863           10.359      9.06m\n",
      "  21    17.27      1.28616e+07       20          8.88686          9.88321      8.63m\n",
      "  22    17.00      1.02001e+07       22          8.85081          8.66329     11.01m\n",
      "  23    17.38       1.7723e+07       20          8.73663          9.74073     15.24m\n",
      "  24    17.64      1.32896e+07       20          8.87484          9.99135      8.68m\n",
      "  25    17.36      9.76649e+06       20          8.86264          10.1012      8.81m\n",
      "  26    17.39      1.49212e+07       18          8.88167          10.1909      7.64m\n",
      "  27    17.16      1.42077e+07       20          8.85202          10.1968      8.47m\n",
      "  28    17.42      1.38652e+07       20          8.88972          9.85747      8.33m\n",
      "  29    17.44      1.23198e+07       20           8.8739          9.99984      7.15m\n",
      "  30    17.42       1.4246e+07       20           8.8596          10.1285      6.71m\n",
      "  31    17.60      1.33243e+07       18          8.90219          10.0062      6.70m\n",
      "  32    17.53      1.37575e+07       20          8.85182          10.1985      7.58m\n",
      "  33    17.40      1.48196e+07       20          8.85785          10.1443      6.58m\n",
      "  34    17.32      1.30615e+07       20          8.87599            9.981      6.07m\n",
      "  35    17.52      1.17446e+07       20          8.82093          10.4766      6.21m\n",
      "  36    17.24      1.37916e+07       18          8.88991          10.1168      6.16m\n",
      "  37    17.28      1.25042e+07       18          8.85123          10.4649      5.67m\n",
      "  38    17.19      1.28865e+07       21          8.82332          9.06891      5.86m\n",
      "  39    16.98      1.39551e+07       20          8.86039          10.1214      5.76m\n",
      "  40    17.23      1.31564e+07       20          8.84274          10.2803      5.41m\n",
      "  41    16.99      1.33361e+07       20          8.87549          10.2466      5.46m\n",
      "  42    17.43      1.29284e+07       18          8.89727          10.0505      5.50m\n",
      "  43    17.66      1.11712e+07       20          8.84566           10.254      5.35m\n",
      "  44    17.50      1.68984e+07       20          8.85969          10.1277      5.17m\n",
      "  45    17.05      1.31025e+07       20          8.89088          9.84702      5.36m\n",
      "  46    17.31      1.17077e+07       31          8.77167          9.62605      5.33m\n",
      "  47    17.68      1.08313e+07       18          8.89371          10.0826      4.95m\n",
      "  48    17.36      1.12231e+07       18          8.86822           10.312      4.92m\n",
      "  49    17.68      1.42824e+07       18          8.87129          10.2844      4.90m\n",
      "  50    17.23       1.4883e+07       20          8.84613          10.2498      4.80m\n",
      "  51    17.50      1.21918e+07       20          8.86126          10.1136      4.55m\n",
      "  52    17.63      1.30008e+07       20          8.88711          9.88098      4.66m\n",
      "  53    17.18      1.92196e+07       18          8.86537          10.3377      4.61m\n",
      "  54    17.18       1.1651e+07       18          8.87363          10.2633      4.55m\n",
      "  55    17.66      1.45871e+07       18          8.89519          10.0692      4.33m\n",
      "  56    17.43        1.298e+07       20          8.81951          10.4893      4.06m\n",
      "  57    17.41      1.32645e+07       33          8.73045          8.65956      3.96m\n",
      "  58    17.42      1.16747e+07       36          8.78693          9.41338      3.93m\n",
      "  59    17.21      1.36051e+07       20          8.83193          10.3775      3.78m\n",
      "  60    17.57      1.27749e+07       18          8.89924          10.0328      3.69m\n",
      "  61    16.93      1.30336e+07       20          8.85702          10.1517      3.80m\n",
      "  62    17.09      1.32069e+07       18          8.91738          9.86956      3.52m\n",
      "  63    17.43      1.22854e+07       20          8.82708          10.4212      3.43m\n",
      "  64    17.39      1.52079e+07       20          8.88714          9.88068      3.27m\n",
      "  65    17.57      1.34143e+07       18          8.90527          9.97853      3.31m\n",
      "  66    17.81      1.34302e+07       20          8.87094          10.0265      3.32m\n",
      "  67    16.84      1.15072e+07       22          8.81531          9.61907      3.06m\n",
      "  68    17.27      1.23503e+07       18          8.87123          10.2849      3.09m\n",
      "  69    17.57      1.28361e+07       20          8.88939          9.86047      3.00m\n",
      "  70    17.19      1.31143e+07       20          8.89496          9.81026      2.96m\n",
      "  71    17.52      1.36686e+07       18          8.87089           10.288      2.75m\n",
      "  72    17.24      1.05835e+07       20          8.86556          10.0749      2.88m\n",
      "  73    17.42      1.43136e+07       20          8.89755          9.78695      2.86m\n",
      "  74    17.03      1.42192e+07       20          8.83547          10.3457      2.76m\n",
      "  75    17.36      1.40483e+07       20          8.89279          9.82979      2.42m\n",
      "  76    17.28      1.23365e+07       18           8.9056          9.97558      2.20m\n",
      "  77    17.32      1.16393e+07       25          8.85549          9.22552      2.12m\n",
      "  78    17.24       1.2025e+07       20          8.85977           10.127      2.00m\n",
      "  79    17.43      1.11944e+07       23          8.85087          9.94702      1.93m\n",
      "  80    17.28      1.16879e+07       20          8.88211            9.926      1.89m\n",
      "  81    17.25      1.12019e+07       26          8.65032          7.98189      1.81m\n",
      "  82    17.27      1.60156e+07       20          8.84364          10.2722      1.72m\n",
      "  83    17.41      1.25229e+07       18          8.84425          10.5277      1.57m\n",
      "  84    17.55      1.30332e+07       18          8.87999           10.206      1.48m\n",
      "  85    17.40       1.4082e+07       20          8.85459          8.60624      1.40m\n",
      "  86    17.38      2.80479e+07       18          8.89376          10.0821      1.31m\n",
      "  87    17.20      1.09664e+07       20          8.88777          9.87502      1.22m\n",
      "  88    17.29      1.64409e+07       20          8.76404          10.9886      1.11m\n",
      "  89    17.33      1.50009e+07       20          8.86344           10.094     59.45s\n",
      "  90    17.32      1.12513e+07       28          8.80859          8.98842     58.91s\n",
      "  91    17.30      1.22901e+07       20          8.88199            9.927      1.00m\n",
      "  92    16.93       1.3288e+07       20          8.87982          9.94657     45.25s\n",
      "  93    17.73      1.29469e+07       20          8.86637          10.0676     40.40s\n",
      "  94    17.44      1.33655e+07       20          8.84793          10.2336     30.15s\n",
      "  95    17.44      1.03543e+07       18           8.8493          10.4823     24.18s\n",
      "  96    17.31       1.1568e+07       20           8.8646          10.0835     18.54s\n",
      "  97    17.35      1.33994e+07       20          8.85708          10.1512     12.01s\n",
      "  98    17.07      1.42391e+07       21          8.86218          9.41291      5.88s\n",
      "  99    17.07      1.12391e+07       18          8.88891          10.1258      0.00s\n",
      "exp(log(sub(X0, mul(sub(sub(mul(X0, X0), X0), X0), sub(log(X0), mul(0.200, X0))))))\n"
     ]
    }
   ],
   "source": [
    "\n",
    "# Step 1: Define the custom exponential function with clipping\n",
    "def custom_exp(x1):\n",
    "    \"\"\"Perform element-wise exponential function using numpy with input clipping to avoid overflow.\"\"\"\n",
    "    # Clip the input to a range that prevents overflow in the exponential function\n",
    "    x1 = np.clip(x1, -20, 20)\n",
    "    return np.exp(x1)\n",
    "\n",
    "\n",
    "# Step 2: Make the function node with make_function()\n",
    "# Ensure that the exponential function returns finite results to prevent overflow issues\n",
    "\n",
    "exp_function = make_function(function=custom_exp, name='exp', arity=1, wrap=False)\n",
    "\n",
    "function_set = ['add', 'sub', 'mul', 'div', 'log', 'neg', exp_function ]\n",
    "\n",
    "print('hello')\n",
    "\n",
    "est_gp = SymbolicRegressor(population_size=2000,\n",
    "                           generations=100, stopping_criteria=0.01,\n",
    "                           p_crossover=0.7, p_subtree_mutation=0.15,\n",
    "                           p_hoist_mutation=0.05, p_point_mutation=0.1,\n",
    "                           max_samples=0.9, verbose=1,\n",
    "                           parsimony_coefficient=0.5, random_state=0,\n",
    "                           function_set= function_set\n",
    "                           )\n",
    "\n",
    "est_gp.fit(U_1_plus,Y_plus_tau )\n",
    "\n",
    "print(est_gp._program)"
   ]
  },
  {
   "cell_type": "code",
   "execution_count": 159,
   "metadata": {},
   "outputs": [
    {
     "name": "stdout",
     "output_type": "stream",
     "text": [
      "Simplified Expression:\n",
      "X0*((0.2*X0 - log(X0))*(X0 - 2) + 1)\n"
     ]
    }
   ],
   "source": [
    "import sympy as sp\n",
    "\n",
    "# Define the symbolic variable\n",
    "X0 = sp.symbols('X0')\n",
    "\n",
    "# Define the converter for sympy functions\n",
    "converter = {\n",
    "    'add': lambda x, y: x + y,\n",
    "    'sub': lambda x, y: x - y,\n",
    "    'mul': lambda x, y: x * y,\n",
    "    'div': lambda x, y: x / y,\n",
    "    'neg': lambda x: -x,\n",
    "    'exp': sp.exp,\n",
    "    'log': sp.log\n",
    "}\n",
    "\n",
    "# The extremely complex expression\n",
    "expr_str = \"exp(log(sub(X0, mul(sub(sub(mul(X0, X0), X0), X0), sub(log(X0), mul(0.200, X0))))))\"\n",
    "\n",
    "# Convert the string expression to a sympy expression using the converter\n",
    "expr = sp.sympify(expr_str, locals=converter)\n",
    "\n",
    "# Simplify the expression\n",
    "simplified_expr = sp.simplify(expr)\n",
    "\n",
    "print(\"Simplified Expression:\")\n",
    "print(simplified_expr)\n"
   ]
  },
  {
   "cell_type": "code",
   "execution_count": 161,
   "metadata": {},
   "outputs": [
    {
     "name": "stdout",
     "output_type": "stream",
     "text": [
      "U*((0.2*U - log(U))*(U - 2) + 1)\n"
     ]
    },
    {
     "data": {
      "image/png": "[encoded data removed]",
      "text/plain": [
       "<Figure size 1000x600 with 1 Axes>"
      ]
     },
     "metadata": {},
     "output_type": "display_data"
    },
    {
     "name": "stdout",
     "output_type": "stream",
     "text": [
      "Simplified Expression:\n",
      "(log(log(U**U)) + 0.728)*log(U)\n"
     ]
    }
   ],
   "source": [
    "# --------------Playing around with sympy to expand the expression -----------------\n",
    "\n",
    "\n",
    "import sympy as sp\n",
    "\n",
    "# Define symbolic variables\n",
    "U = symbols('U')\n",
    "\n",
    "\n",
    "converter = {\n",
    "    'sub': lambda x, y : x - y,\n",
    "    'div': lambda x, y : x/y,\n",
    "    'mul': lambda x, y : x*y,\n",
    "    'add': lambda x, y : x + y,\n",
    "    'neg': lambda x    : -x,\n",
    "    'pow': lambda x, y : x**y,\n",
    "    'log': sp.log, \n",
    "    'exp': sp.exp\n",
    "}\n",
    "\n",
    "#print(sympy.sympify('sqrt(div(add(1.000, sub(div(sqrt(log(0.978)), X0), mul(-0.993, X0))), add(-0.583, 0.592)))', locals=converter))\n",
    "\n",
    "# Extract the most fit individual\n",
    "best_program = est_gp._program\n",
    "\n",
    "expr = sp.sympify(str(best_program), locals=converter)\n",
    "\n",
    "U = sp.symbols('U')\n",
    "expr= expr.subs('X0', U)\n",
    "\n",
    "simplified_expr = sp.simplify(expr)\n",
    "\n",
    "\n",
    "\n",
    "print(simplified_expr)\n",
    "\n",
    "#print(sympy.sympify(str(best_program), locals=converter))\n",
    "\n",
    "# Print the symbolic expression of the best individual\n",
    "#print(\"Best symbolic expression:\", best_program)\n",
    "# Define the symbolic variable\n",
    "\n",
    "U = sp.symbols('U', real=True, positive=True)\n",
    "\n",
    "# Define the expression\n",
    "expr = (sp.log(U * sp.log(U)) + 0.728) * sp.log(sp.log(sp.exp(U)))\n",
    "\n",
    "# Convert the symbolic expression to a numerical function using lambdify\n",
    "expr_func = sp.lambdify(U, expr, 'numpy')\n",
    "\n",
    "\n",
    "# Adjust the range to avoid log(0) and log of negative values\n",
    "U_1_plus = np.linspace(1.1, 30, 500)  # Start from 1.1 to avoid log(1) being zero\n",
    "\n",
    "# Recalculate Y values using the adjusted range\n",
    "Y_values = expr_func(U_1_plus)\n",
    "\n",
    "# Plot the adjusted expression\n",
    "plt.figure(figsize=(10, 6))\n",
    "plt.plot( Y_values,U_1_plus, label=r'$(\\log(U \\cdot \\log(U)) + 0.728) \\cdot \\log(\\log(\\exp(U)))$')\n",
    "plt.xlabel(r'$Y^+_{\\tau}$')\n",
    "plt.ylabel(r'$U^+_1$')\n",
    "plt.xscale('log') \n",
    "plt.title('Plot of Expression Against $U^+_1$ with Adjusted Range')\n",
    "plt.grid(True)\n",
    "plt.legend()\n",
    "plt.show()\n",
    "\n",
    "\n",
    "\n",
    "# Simplify the expression\n",
    "simplified_expr = sp.simplify(expr)\n",
    "\n",
    "print(\"Simplified Expression:\")\n",
    "print(simplified_expr)\n",
    "\n",
    "\n"
   ]
  },
  {
   "cell_type": "code",
   "execution_count": 69,
   "metadata": {},
   "outputs": [
    {
     "name": "stdout",
     "output_type": "stream",
     "text": [
      "{'method': 'Point Mutation', 'parent_idx': np.int64(1611), 'parent_nodes': []}\n"
     ]
    },
    {
     "ename": "KeyError",
     "evalue": "'donor_idx'",
     "output_type": "error",
     "traceback": [
      "\u001b[0;31m---------------------------------------------------------------------------\u001b[0m",
      "\u001b[0;31mKeyError\u001b[0m                                  Traceback (most recent call last)",
      "Cell \u001b[0;32mIn[69], line 10\u001b[0m\n\u001b[1;32m      6\u001b[0m graph\u001b[38;5;241m.\u001b[39mview()  \u001b[38;5;66;03m# Opens the graph in the default viewer\u001b[39;00m\n\u001b[1;32m      8\u001b[0m \u001b[38;5;28mprint\u001b[39m(est_gp\u001b[38;5;241m.\u001b[39m_program\u001b[38;5;241m.\u001b[39mparents)\n\u001b[0;32m---> 10\u001b[0m idx \u001b[38;5;241m=\u001b[39m \u001b[43mest_gp\u001b[49m\u001b[38;5;241;43m.\u001b[39;49m\u001b[43m_program\u001b[49m\u001b[38;5;241;43m.\u001b[39;49m\u001b[43mparents\u001b[49m\u001b[43m[\u001b[49m\u001b[38;5;124;43m'\u001b[39;49m\u001b[38;5;124;43mdonor_idx\u001b[39;49m\u001b[38;5;124;43m'\u001b[39;49m\u001b[43m]\u001b[49m\n\u001b[1;32m     11\u001b[0m fade_nodes \u001b[38;5;241m=\u001b[39m est_gp\u001b[38;5;241m.\u001b[39m_program\u001b[38;5;241m.\u001b[39mparents[\u001b[38;5;124m'\u001b[39m\u001b[38;5;124mdonor_nodes\u001b[39m\u001b[38;5;124m'\u001b[39m]\n\u001b[1;32m     12\u001b[0m dot_data \u001b[38;5;241m=\u001b[39m est_gp\u001b[38;5;241m.\u001b[39m_programs[\u001b[38;5;241m-\u001b[39m\u001b[38;5;241m2\u001b[39m][idx]\u001b[38;5;241m.\u001b[39mexport_graphviz(fade_nodes\u001b[38;5;241m=\u001b[39mfade_nodes)\n",
      "\u001b[0;31mKeyError\u001b[0m: 'donor_idx'"
     ]
    }
   ],
   "source": [
    "# Generate the DOT data (assuming est_gp is defined and has _program.export_graphviz())\n",
    "dot_data = est_gp._program.export_graphviz()\n",
    "# Create a Graphviz Source object\n",
    "graph = graphviz.Source(dot_data)\n",
    "\n",
    "graph.view()  # Opens the graph in the default viewer\n",
    "\n",
    "print(est_gp._program.parents)\n",
    "\n",
    "idx = est_gp._program.parents['donor_idx']\n",
    "fade_nodes = est_gp._program.parents['donor_nodes']\n",
    "dot_data = est_gp._programs[-2][idx].export_graphviz(fade_nodes=fade_nodes)\n",
    "graph = graphviz.Source(dot_data)\n",
    "graph.view()"
   ]
  },
  {
   "cell_type": "code",
   "execution_count": null,
   "metadata": {},
   "outputs": [],
   "source": []
  }
 ],
 "metadata": {
  "kernelspec": {
   "display_name": "my_env",
   "language": "python",
   "name": "python3"
  },
  "language_info": {
   "codemirror_mode": {
    "name": "ipython",
    "version": 3
   },
   "file_extension": ".py",
   "mimetype": "text/x-python",
   "name": "python",
   "nbconvert_exporter": "python",
   "pygments_lexer": "ipython3",
   "version": "3.12.5"
  }
 },
 "nbformat": 4,
 "nbformat_minor": 2
}
